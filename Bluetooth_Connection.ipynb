{
  "nbformat": 4,
  "nbformat_minor": 0,
  "metadata": {
    "colab": {
      "provenance": [],
      "cell_execution_strategy": "setup",
      "authorship_tag": "ABX9TyOhC9q6FsAr6vQRlp0XyjNt",
      "include_colab_link": true
    },
    "kernelspec": {
      "name": "python3",
      "display_name": "Python 3"
    },
    "language_info": {
      "name": "python"
    }
  },
  "cells": [
    {
      "cell_type": "markdown",
      "metadata": {
        "id": "view-in-github",
        "colab_type": "text"
      },
      "source": [
        "<a href=\"https://colab.research.google.com/github/ben854719/Autonomous-Health-Monitoring-Emergency-Response/blob/main/Bluetooth_Connection.ipynb\" target=\"_parent\"><img src=\"https://colab.research.google.com/assets/colab-badge.svg\" alt=\"Open In Colab\"/></a>"
      ]
    },
    {
      "cell_type": "code",
      "metadata": {
        "colab": {
          "base_uri": "https://localhost:8080/"
        },
        "collapsed": true,
        "id": "fad2fa71",
        "outputId": "d1d90fc8-48b9-4b1b-b93f-1f14434fc1f2"
      },
      "source": [
        "!sudo apt-get update\n",
        "!sudo apt-get install -y nmap"
      ],
      "execution_count": 1,
      "outputs": [
        {
          "output_type": "stream",
          "name": "stdout",
          "text": [
            "\r0% [Working]\r            \rHit:1 https://cli.github.com/packages stable InRelease\n",
            "Hit:2 https://developer.download.nvidia.com/compute/cuda/repos/ubuntu2204/x86_64  InRelease\n",
            "Hit:3 http://archive.ubuntu.com/ubuntu jammy InRelease\n",
            "Hit:4 http://security.ubuntu.com/ubuntu jammy-security InRelease\n",
            "Hit:5 http://archive.ubuntu.com/ubuntu jammy-updates InRelease\n",
            "Hit:6 https://r2u.stat.illinois.edu/ubuntu jammy InRelease\n",
            "Hit:7 http://archive.ubuntu.com/ubuntu jammy-backports InRelease\n",
            "Hit:8 https://cloud.r-project.org/bin/linux/ubuntu jammy-cran40/ InRelease\n",
            "Hit:9 https://ppa.launchpadcontent.net/deadsnakes/ppa/ubuntu jammy InRelease\n",
            "Hit:10 https://ppa.launchpadcontent.net/graphics-drivers/ppa/ubuntu jammy InRelease\n",
            "Hit:11 https://ppa.launchpadcontent.net/ubuntugis/ppa/ubuntu jammy InRelease\n",
            "Reading package lists... Done\n",
            "W: Skipping acquire of configured file 'main/source/Sources' as repository 'https://r2u.stat.illinois.edu/ubuntu jammy InRelease' does not seem to provide it (sources.list entry misspelt?)\n",
            "Reading package lists... Done\n",
            "Building dependency tree... Done\n",
            "Reading state information... Done\n",
            "nmap is already the newest version (7.91+dfsg1+really7.80+dfsg1-2ubuntu0.1).\n",
            "0 upgraded, 0 newly installed, 0 to remove and 46 not upgraded.\n"
          ]
        }
      ]
    },
    {
      "cell_type": "code",
      "source": [
        "import random\n",
        "import time\n",
        "from datetime import datetime\n",
        "\n",
        "def generate_mock_sensor_data():\n",
        "    return {\n",
        "        \"timestamp\": datetime.utcnow().isoformat(),\n",
        "        \"heartRate\": random.randint(55, 130),\n",
        "        \"temperature\": round(random.uniform(35.5, 38.5), 2),\n",
        "        \"oxygenSaturation\": round(random.uniform(92.0, 99.5), 1),\n",
        "        \"stepCount\": random.randint(0, 5000),\n",
        "        \"fallDetected\": random.choice([False, False, False, True])\n",
        "    }\n",
        "\n",
        "for _ in range(5):\n",
        "    print(generate_mock_sensor_data())\n",
        "    time.sleep(2)"
      ],
      "metadata": {
        "colab": {
          "base_uri": "https://localhost:8080/"
        },
        "collapsed": true,
        "id": "gGqkBV1W7h9B",
        "outputId": "5ec872d8-4622-4794-dbb5-ea91223ca469"
      },
      "execution_count": 7,
      "outputs": [
        {
          "output_type": "stream",
          "name": "stderr",
          "text": [
            "/tmp/ipython-input-4070175991.py:7: DeprecationWarning: datetime.datetime.utcnow() is deprecated and scheduled for removal in a future version. Use timezone-aware objects to represent datetimes in UTC: datetime.datetime.now(datetime.UTC).\n",
            "  \"timestamp\": datetime.utcnow().isoformat(),\n"
          ]
        },
        {
          "output_type": "stream",
          "name": "stdout",
          "text": [
            "{'timestamp': '2025-10-01T17:59:47.969657', 'heartRate': 61, 'temperature': 37.19, 'oxygenSaturation': 97.3, 'stepCount': 405, 'fallDetected': True}\n",
            "{'timestamp': '2025-10-01T17:59:49.969898', 'heartRate': 68, 'temperature': 35.65, 'oxygenSaturation': 99.2, 'stepCount': 1423, 'fallDetected': False}\n",
            "{'timestamp': '2025-10-01T17:59:51.970268', 'heartRate': 70, 'temperature': 37.49, 'oxygenSaturation': 92.3, 'stepCount': 543, 'fallDetected': False}\n",
            "{'timestamp': '2025-10-01T17:59:53.970605', 'heartRate': 100, 'temperature': 38.44, 'oxygenSaturation': 96.9, 'stepCount': 2879, 'fallDetected': False}\n",
            "{'timestamp': '2025-10-01T17:59:55.970925', 'heartRate': 107, 'temperature': 36.0, 'oxygenSaturation': 94.0, 'stepCount': 4337, 'fallDetected': True}\n"
          ]
        }
      ]
    },
    {
      "cell_type": "code",
      "source": [
        "import socket\n",
        "import time\n",
        "import random\n",
        "from datetime import datetime\n",
        "\n",
        "def generate_mock_sensor_data():\n",
        "    return {\n",
        "        \"timestamp\": datetime.utcnow().isoformat(),\n",
        "        \"heartRate\": random.randint(55, 130),\n",
        "        \"temperature\": round(random.uniform(35.5, 38.5), 2),\n",
        "        \"oxygenSaturation\": round(random.uniform(92.0, 99.5), 1),\n",
        "        \"stepCount\": random.randint(0, 5000),\n",
        "        \"fallDetected\": random.choice([False, False, False, True])\n",
        "    }\n",
        "\n",
        "# Import public IP and port.\n",
        "TARGET_HOST = '192.168.1.100'\n",
        "TARGET_PORT = 12345\n",
        "\n",
        "try:\n",
        "    client_socket = socket.socket(socket.AF_INET, socket.SOCK_STREAM)\n",
        "    client_socket.connect((TARGET_HOST, TARGET_PORT))\n",
        "    print(\"[CLIENT] Connected to server\")\n",
        "\n",
        "    for _ in range(5):\n",
        "        mock_data = str(generate_mock_sensor_data())\n",
        "        client_socket.sendall(mock_data.encode())\n",
        "        response = client_socket.recv(1024)\n",
        "        print(\"[CLIENT] Server says:\", response.decode())\n",
        "        time.sleep(2)\n",
        "\n",
        "    client_socket.close()\n",
        "except Exception as e:\n",
        "    print(f\"[CLIENT] Connection error: {e}\")"
      ],
      "metadata": {
        "colab": {
          "base_uri": "https://localhost:8080/"
        },
        "id": "9JVpKgul_VzI",
        "outputId": "7dc171d9-459f-4871-b93b-71e00711fa29"
      },
      "execution_count": 8,
      "outputs": [
        {
          "output_type": "stream",
          "name": "stdout",
          "text": [
            "[CLIENT] Connection error: [Errno 110] Connection timed out\n"
          ]
        }
      ]
    },
    {
      "cell_type": "code",
      "source": [
        "import socket\n",
        "import threading\n",
        "\n",
        "def tcp_server():\n",
        "    server_socket = socket.socket(socket.AF_INET, socket.SOCK_STREAM)\n",
        "    server_socket.bind(('localhost', 12345))\n",
        "    server_socket.listen(1)\n",
        "    print(\"Server listening on port 12345...\")\n",
        "\n",
        "    conn, addr = server_socket.accept()\n",
        "    print(f\"Connected by {addr}\")\n",
        "    data = conn.recv(1024)\n",
        "    print(f\"Received: {data.decode()}\")\n",
        "    conn.sendall(b\"Hello from server!\")\n",
        "    conn.close()\n",
        "\n",
        "# Run server in background thread\n",
        "threading.Thread(target=tcp_server, daemon=True).start()"
      ],
      "metadata": {
        "colab": {
          "base_uri": "https://localhost:8080/"
        },
        "id": "MxudGG5ZEEc0",
        "outputId": "8d1b190b-dc1b-48e5-8df0-133a3640cea1"
      },
      "execution_count": 17,
      "outputs": [
        {
          "output_type": "stream",
          "name": "stdout",
          "text": [
            "Server listening on port 12345...\n"
          ]
        }
      ]
    },
    {
      "cell_type": "code",
      "source": [
        "!sudo apt-get install bluetooth libbluetooth-dev"
      ],
      "metadata": {
        "colab": {
          "base_uri": "https://localhost:8080/"
        },
        "collapsed": true,
        "id": "FByH04WfDRPz",
        "outputId": "3084a010-6195-4d18-fbfc-88bd9d7bd8eb"
      },
      "execution_count": 13,
      "outputs": [
        {
          "output_type": "stream",
          "name": "stdout",
          "text": [
            "Reading package lists... Done\n",
            "Building dependency tree... Done\n",
            "Reading state information... Done\n",
            "The following additional packages will be installed:\n",
            "  bluez libbluetooth3 libudev1 systemd-hwe-hwdb udev\n",
            "Suggested packages:\n",
            "  bluez-cups bluez-obexd bluez-meshd pulseaudio-module-bluetooth\n",
            "The following NEW packages will be installed:\n",
            "  bluetooth bluez libbluetooth-dev libbluetooth3 systemd-hwe-hwdb udev\n",
            "The following packages will be upgraded:\n",
            "  libudev1\n",
            "1 upgraded, 6 newly installed, 0 to remove and 45 not upgraded.\n",
            "Need to get 3,087 kB of archives.\n",
            "After this operation, 14.7 MB of additional disk space will be used.\n",
            "Get:1 http://archive.ubuntu.com/ubuntu jammy-updates/main amd64 libudev1 amd64 249.11-0ubuntu3.16 [76.7 kB]\n",
            "Get:2 http://archive.ubuntu.com/ubuntu jammy-updates/main amd64 udev amd64 249.11-0ubuntu3.16 [1,557 kB]\n",
            "Get:3 http://archive.ubuntu.com/ubuntu jammy-updates/main amd64 bluez amd64 5.64-0ubuntu1.4 [1,106 kB]\n",
            "Get:4 http://archive.ubuntu.com/ubuntu jammy-updates/universe amd64 bluetooth all 5.64-0ubuntu1.4 [2,994 B]\n",
            "Get:5 http://archive.ubuntu.com/ubuntu jammy-updates/main amd64 libbluetooth3 amd64 5.64-0ubuntu1.4 [86.7 kB]\n",
            "Get:6 http://archive.ubuntu.com/ubuntu jammy-updates/main amd64 systemd-hwe-hwdb all 249.11.6 [3,668 B]\n",
            "Get:7 http://archive.ubuntu.com/ubuntu jammy-updates/main amd64 libbluetooth-dev amd64 5.64-0ubuntu1.4 [254 kB]\n",
            "Fetched 3,087 kB in 1s (2,116 kB/s)\n",
            "debconf: unable to initialize frontend: Dialog\n",
            "debconf: (No usable dialog-like program is installed, so the dialog based frontend cannot be used. at /usr/share/perl5/Debconf/FrontEnd/Dialog.pm line 78, <> line 7.)\n",
            "debconf: falling back to frontend: Readline\n",
            "debconf: unable to initialize frontend: Readline\n",
            "debconf: (This frontend requires a controlling tty.)\n",
            "debconf: falling back to frontend: Teletype\n",
            "dpkg-preconfigure: unable to re-open stdin: \n",
            "(Reading database ... 127554 files and directories currently installed.)\n",
            "Preparing to unpack .../libudev1_249.11-0ubuntu3.16_amd64.deb ...\n",
            "Unpacking libudev1:amd64 (249.11-0ubuntu3.16) over (249.11-0ubuntu3.12) ...\n",
            "Setting up libudev1:amd64 (249.11-0ubuntu3.16) ...\n",
            "Selecting previously unselected package udev.\n",
            "(Reading database ... 127554 files and directories currently installed.)\n",
            "Preparing to unpack .../0-udev_249.11-0ubuntu3.16_amd64.deb ...\n",
            "Unpacking udev (249.11-0ubuntu3.16) ...\n",
            "Selecting previously unselected package bluez.\n",
            "Preparing to unpack .../1-bluez_5.64-0ubuntu1.4_amd64.deb ...\n",
            "Unpacking bluez (5.64-0ubuntu1.4) ...\n",
            "Selecting previously unselected package bluetooth.\n",
            "Preparing to unpack .../2-bluetooth_5.64-0ubuntu1.4_all.deb ...\n",
            "Unpacking bluetooth (5.64-0ubuntu1.4) ...\n",
            "Selecting previously unselected package libbluetooth3:amd64.\n",
            "Preparing to unpack .../3-libbluetooth3_5.64-0ubuntu1.4_amd64.deb ...\n",
            "Unpacking libbluetooth3:amd64 (5.64-0ubuntu1.4) ...\n",
            "Selecting previously unselected package systemd-hwe-hwdb.\n",
            "Preparing to unpack .../4-systemd-hwe-hwdb_249.11.6_all.deb ...\n",
            "Unpacking systemd-hwe-hwdb (249.11.6) ...\n",
            "Selecting previously unselected package libbluetooth-dev:amd64.\n",
            "Preparing to unpack .../5-libbluetooth-dev_5.64-0ubuntu1.4_amd64.deb ...\n",
            "Unpacking libbluetooth-dev:amd64 (5.64-0ubuntu1.4) ...\n",
            "Setting up udev (249.11-0ubuntu3.16) ...\n",
            "invoke-rc.d: could not determine current runlevel\n",
            "invoke-rc.d: policy-rc.d denied execution of start.\n",
            "Setting up systemd-hwe-hwdb (249.11.6) ...\n",
            "Setting up libbluetooth3:amd64 (5.64-0ubuntu1.4) ...\n",
            "Setting up bluez (5.64-0ubuntu1.4) ...\n",
            "invoke-rc.d: could not determine current runlevel\n",
            "invoke-rc.d: policy-rc.d denied execution of force-reload.\n",
            "Created symlink /etc/systemd/system/dbus-org.bluez.service → /lib/systemd/system/bluetooth.service.\n",
            "Created symlink /etc/systemd/system/bluetooth.target.wants/bluetooth.service → /lib/systemd/system/bluetooth.service.\n",
            "invoke-rc.d: could not determine current runlevel\n",
            "invoke-rc.d: policy-rc.d denied execution of start.\n",
            "Setting up libbluetooth-dev:amd64 (5.64-0ubuntu1.4) ...\n",
            "Setting up bluetooth (5.64-0ubuntu1.4) ...\n",
            "Processing triggers for man-db (2.10.2-1) ...\n",
            "Processing triggers for dbus (1.12.20-2ubuntu4.1) ...\n",
            "Processing triggers for libc-bin (2.35-0ubuntu3.8) ...\n",
            "/sbin/ldconfig.real: /usr/local/lib/libumf.so.0 is not a symbolic link\n",
            "\n",
            "/sbin/ldconfig.real: /usr/local/lib/libtbb.so.12 is not a symbolic link\n",
            "\n",
            "/sbin/ldconfig.real: /usr/local/lib/libur_loader.so.0 is not a symbolic link\n",
            "\n",
            "/sbin/ldconfig.real: /usr/local/lib/libtcm_debug.so.1 is not a symbolic link\n",
            "\n",
            "/sbin/ldconfig.real: /usr/local/lib/libhwloc.so.15 is not a symbolic link\n",
            "\n",
            "/sbin/ldconfig.real: /usr/local/lib/libtcm.so.1 is not a symbolic link\n",
            "\n",
            "/sbin/ldconfig.real: /usr/local/lib/libur_adapter_opencl.so.0 is not a symbolic link\n",
            "\n",
            "/sbin/ldconfig.real: /usr/local/lib/libtbbbind.so.3 is not a symbolic link\n",
            "\n",
            "/sbin/ldconfig.real: /usr/local/lib/libtbbmalloc.so.2 is not a symbolic link\n",
            "\n",
            "/sbin/ldconfig.real: /usr/local/lib/libtbbbind_2_5.so.3 is not a symbolic link\n",
            "\n",
            "/sbin/ldconfig.real: /usr/local/lib/libur_adapter_level_zero_v2.so.0 is not a symbolic link\n",
            "\n",
            "/sbin/ldconfig.real: /usr/local/lib/libur_adapter_level_zero.so.0 is not a symbolic link\n",
            "\n",
            "/sbin/ldconfig.real: /usr/local/lib/libtbbbind_2_0.so.3 is not a symbolic link\n",
            "\n",
            "/sbin/ldconfig.real: /usr/local/lib/libtbbmalloc_proxy.so.2 is not a symbolic link\n",
            "\n"
          ]
        }
      ]
    },
    {
      "cell_type": "code",
      "source": [
        "import socket\n",
        "\n",
        "client_socket = socket.socket(socket.AF_INET, socket.SOCK_STREAM)\n",
        "client_socket.connect(('localhost', 12345))\n",
        "client_socket.sendall(b\"Hello from client!\")\n",
        "response = client_socket.recv(1024)\n",
        "print(f\"Server replied: {response.decode()}\")\n",
        "client_socket.close()"
      ],
      "metadata": {
        "colab": {
          "base_uri": "https://localhost:8080/"
        },
        "id": "XsVYuZ6DEKrr",
        "outputId": "5e0291e2-9ad2-41f2-f530-440bb5d32afe"
      },
      "execution_count": 18,
      "outputs": [
        {
          "output_type": "stream",
          "name": "stdout",
          "text": [
            "Connected by ('127.0.0.1', 42108)\n",
            "Received: Hello from client!\n",
            "Server replied: Hello from server!\n"
          ]
        }
      ]
    },
    {
      "cell_type": "code",
      "source": [
        "!pip install bleak"
      ],
      "metadata": {
        "colab": {
          "base_uri": "https://localhost:8080/"
        },
        "id": "b1MDTLaEDZp5",
        "outputId": "d21796a8-4157-4ff8-c3ae-150c81dc5dd8"
      },
      "execution_count": 15,
      "outputs": [
        {
          "output_type": "stream",
          "name": "stdout",
          "text": [
            "Requirement already satisfied: bleak in /usr/local/lib/python3.12/dist-packages (1.1.1)\n",
            "Requirement already satisfied: dbus-fast>=1.83.0 in /usr/local/lib/python3.12/dist-packages (from bleak) (2.44.3)\n"
          ]
        }
      ]
    },
    {
      "cell_type": "code",
      "source": [
        "from unittest import mock\n",
        "import asyncio\n",
        "from bleak import BleakScanner\n",
        "\n",
        "# Fake device data\n",
        "fake_devices = [\n",
        "    mock.Mock(name=\"Device1\", address=\"AA:BB:CC:DD:EE:FF\"),\n",
        "    mock.Mock(name=\"Device2\", address=\"11:22:33:44:55:66\"),\n",
        "]\n",
        "\n",
        "# Patch the discover method\n",
        "@mock.patch('bleak.BleakScanner.discover', return_value=fake_devices)\n",
        "def test_bluetooth_scan(mock_discover):\n",
        "    devices = asyncio.run(BleakScanner.discover())\n",
        "    for d in devices:\n",
        "        print(f\"Found device: {d.name} @ {d.address}\")"
      ],
      "metadata": {
        "id": "DcvXmrggDl-9"
      },
      "execution_count": 16,
      "outputs": []
    },
    {
      "cell_type": "code",
      "source": [
        "from bleak import BleakClient\n",
        "\n",
        "async def send_command(address, command):\n",
        "    async with BleakClient(address) as client:\n",
        "        await client.write_gatt_char(\"command-char-uuid\", command.encode())"
      ],
      "metadata": {
        "id": "Mxkx7A_UEcRj"
      },
      "execution_count": 19,
      "outputs": []
    },
    {
      "cell_type": "code",
      "source": [
        "from unittest.mock import patch, AsyncMock\n",
        "from unittest import mock\n",
        "\n",
        "@patch('your_module.BleakClient', new_callable=AsyncMock)\n",
        "def test_failed_write(self, mock_client_class):\n",
        "    mock_client = mock_client_class.return_value.__aenter__.return_value\n",
        "\n",
        "    # Simulate write_gatt_char throwing an exception\n",
        "    mock_client.write_gatt_char.side_effect = Exception(\"Write failed\")\n",
        "\n",
        "    address = \"AA:BB:CC:DD:EE:FF\"\n",
        "    command = \"STOP\"\n",
        "\n",
        "    import asyncio\n",
        "    with self.assertRaises(Exception) as context:\n",
        "        asyncio.run(send_command(address, command))\n",
        "\n",
        "    self.assertEqual(str(context.exception), \"Write failed\")\n",
        ""
      ],
      "metadata": {
        "id": "1NQy7k8LEj9k"
      },
      "execution_count": 20,
      "outputs": []
    },
    {
      "cell_type": "code",
      "source": [
        "from bleak import BleakScanner\n",
        "\n",
        "async def find_target_device(target_name):\n",
        "    devices = await BleakScanner.discover()\n",
        "    for d in devices:\n",
        "        if d.name == target_name:\n",
        "            return d.address\n",
        "    return None\n",
        ""
      ],
      "metadata": {
        "id": "6FYv7scFEpCw"
      },
      "execution_count": 21,
      "outputs": []
    },
    {
      "cell_type": "code",
      "source": [
        "import unittest\n",
        "from unittest.mock import patch, Mock\n",
        "import asyncio\n",
        "from bleak import BleakScanner\n",
        "import nest_asyncio\n",
        "\n",
        "# Apply nest_asyncio to allow nested event loops\n",
        "nest_asyncio.apply()\n",
        "\n",
        "# The find_target_device function is defined in a previous cell,\n",
        "# so we don't need to import it from a module.\n",
        "\n",
        "class TestBluetoothScanner(unittest.TestCase):\n",
        "    @patch('bleak.BleakScanner.discover')\n",
        "    async def test_device_found(self, mock_discover):\n",
        "        # Configure the mock object to return the desired name and address\n",
        "        fake_device = Mock()\n",
        "        fake_device.configure_mock(name=\"MyDevice\", address=\"DE:AD:BE:EF:00:01\")\n",
        "        mock_discover.return_value = [fake_device]\n",
        "\n",
        "        address = await find_target_device(\"MyDevice\")\n",
        "        self.assertEqual(address, \"DE:AD:BE:EF:00:01\")\n",
        "\n",
        "    @patch('bleak.BleakScanner.discover')\n",
        "    async def test_device_not_found(self, mock_discover):\n",
        "        mock_discover.return_value = []\n",
        "\n",
        "        address = await find_target_device(\"GhostDevice\")\n",
        "        self.assertIsNone(address)\n",
        "\n",
        "# Run the tests manually\n",
        "if __name__ == '__main__':\n",
        "    tests = TestBluetoothScanner()\n",
        "    print(\"Running test_device_found...\")\n",
        "    asyncio.run(tests.test_device_found())\n",
        "    print(\"Running test_device_not_found...\")\n",
        "    asyncio.run(tests.test_device_not_found())"
      ],
      "metadata": {
        "colab": {
          "base_uri": "https://localhost:8080/"
        },
        "id": "-77XklbBEru0",
        "outputId": "29ac4cf9-2d92-4b46-9775-ddfc269a338c"
      },
      "execution_count": 22,
      "outputs": [
        {
          "output_type": "stream",
          "name": "stdout",
          "text": [
            "Running test_device_found...\n",
            "Running test_device_not_found...\n"
          ]
        }
      ]
    }
  ]
}